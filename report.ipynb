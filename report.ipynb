{
 "cells": [
  {
   "attachments": {},
   "cell_type": "markdown",
   "metadata": {},
   "source": [
    "# Colab setup\n",
    "clone the repo into the colab"
   ]
  },
  {
   "cell_type": "code",
   "execution_count": null,
   "metadata": {},
   "outputs": [],
   "source": [
    "!git clone https://github.com/pmozil/EDA_team_21.git\n",
    "%cd EDA_team_21\n",
    "!python -m pip install -r requitements.txt"
   ]
  },
  {
   "cell_type": "code",
   "execution_count": null,
   "metadata": {},
   "outputs": [],
   "source": [
    "import numpy as np\n",
    "import networkx as nx\n",
    "import matplotlib.pyplot as plt\n",
    "from matplotlib import animation\n",
    "import queue\n",
    "import heapq\n",
    "import time\n",
    "from tqdm import tqdm\n",
    "\n",
    "from graph_generation import gnp_random_connected_graph, draw_graphimport numpy as np"
   ]
  },
  {
   "attachments": {},
   "cell_type": "markdown",
   "metadata": {},
   "source": [
    "# Prim's algorithm\n",
    "Here's a naive implementation using a binary heap. It's logarithmic, at least"
   ]
  },
  {
   "cell_type": "code",
   "execution_count": null,
   "metadata": {},
   "outputs": [],
   "source": [
    "def prim(graph: nx.Graph) -> nx.Graph:\n",
    "    \"\"\"\n",
    "    Create a spanning tree for the graph\n",
    "\n",
    "    Args:\n",
    "        graph: nx.Graph - the given graph\n",
    "\n",
    "    Returns:\n",
    "        nx.Graph - the spanning tree\n",
    "    \"\"\"\n",
    "    pqueue = queue.PriorityQueue()\n",
    "    nodes = graph.nodes()\n",
    "    spanning_tree = nx.Graph()\n",
    "    for edge in graph.edges(data=True):\n",
    "        pqueue.put((edge[2][\"weight\"], (edge[0], edge[1])))\n",
    "    visited = [0 for _ in nodes]\n",
    "    min_edge = pqueue.get()\n",
    "    spanning_tree.add_edge(*min_edge[1], weight=min_edge[0])\n",
    "    visited[min_edge[1][0]] = 1\n",
    "    visited[min_edge[1][1]] = 1\n",
    "    while not pqueue.empty() and not all(visited):\n",
    "        min_edge = pqueue.get()\n",
    "        if (visited[min_edge[1][0]]) ^ (visited[min_edge[1][1]]):\n",
    "            spanning_tree.add_edge(*min_edge[1], weight=min_edge[0])\n",
    "            visited[min_edge[1][0]] = 1\n",
    "            visited[min_edge[1][1]] = 1\n",
    "    return spanning_tree"
   ]
  },
  {
   "attachments": {},
   "cell_type": "markdown",
   "metadata": {},
   "source": [
    "A bit slow, but it'll do. On to comparing it with the networkx algorithm!"
   ]
  },
  {
   "cell_type": "code",
   "execution_count": null,
   "metadata": {},
   "outputs": [],
   "source": [
    "ITERATIONS = 100\n",
    "time_taken_networkx = 0\n",
    "time_taken_native = 0\n",
    "for i in tqdm(range(ITERATIONS)):\n",
    "    G = gnp_random_connected_graph(250, 0.2)\n",
    "    start = time.time()\n",
    "    nx.minimum_spanning_tree(G, algorithm=\"prim\")\n",
    "    end = time.time()\n",
    "\n",
    "    time_taken_networkx += end - start\n",
    "\n",
    "    start = time.time()\n",
    "    prim(G)\n",
    "    end = time.time()\n",
    "\n",
    "    time_taken_native += end - start\n",
    "\n",
    "time_taken_native = time_taken_native / ITERATIONS\n",
    "time_taken_networkx = time_taken_networkx / ITERATIONS\n",
    "\n",
    "print(f\"native: {time_taken_native}s\")\n",
    "print(f\"networkx: {time_taken_networkx}s\")\n",
    "print(f\"relative: {time_taken_native / time_taken_networkx}\")\n"
   ]
  },
  {
   "attachments": {},
   "cell_type": "markdown",
   "metadata": {},
   "source": [
    "## TODO: add kruskal"
   ]
  },
  {
   "attachments": {},
   "cell_type": "markdown",
   "metadata": {},
   "source": [
    "# Floyd's algorithm\n",
    "On to the Floyd's algorithm now. Here's out code:"
   ]
  },
  {
   "cell_type": "code",
   "execution_count": null,
   "metadata": {},
   "outputs": [],
   "source": [
    "def floyd(graph: nx.Graph) -> tuple[np.ndarray, np.ndarray]:\n",
    "    \"\"\"\n",
    "    Calculate the distance matrix for a graph\n",
    "\n",
    "    Args:\n",
    "        graph: nx.Graph - the directed graph\n",
    "\n",
    "    Returns:\n",
    "        tuple[np.ndarray, np.ndarray] - the W and Θ matrixes\n",
    "    \"\"\"\n",
    "    graph = graph.to_directed()\n",
    "    nodes = np.intp(graph.number_of_nodes())\n",
    "    distances = nx.to_numpy_array(graph, None, weight=\"weight\", nonedge=np.inf)\n",
    "    np.fill_diagonal(distances, 0)\n",
    "    source_nodes = np.zeros_like(distances)\n",
    "\n",
    "    for k in range(nodes):\n",
    "        if any(distances[i, i] < 0 for i in range(nodes)):\n",
    "            print(\"Negative cycle in the graph!\")\n",
    "            raise ValueError\n",
    "        dist_fst = distances[k]\n",
    "        for i in range(nodes):\n",
    "            dist_snd = distances[i]\n",
    "            for j in range(nodes):\n",
    "                new_val = dist_snd[k] + dist_fst[j]\n",
    "                if new_val < distances[i, j]:\n",
    "                    distances[i, j] = new_val\n",
    "                    source_nodes[j, i] = k\n",
    "\n",
    "    return distances, source_nodes\n",
    "\n",
    "\n",
    "def floyd_with_numpy(graph: nx.Graph) -> np.ndarray:\n",
    "    \"\"\"\n",
    "    Calculate the distance matrix for a graph, with numpy minimum\n",
    "        (it should be faster)\n",
    "\n",
    "    Args:\n",
    "        graph: nx.Graph - the directed graph\n",
    "\n",
    "    Returns:\n",
    "        np.ndarray - the W and Θ matrixes\n",
    "    \"\"\"\n",
    "    graph = graph.to_directed()\n",
    "    distances = nx.to_numpy_array(graph, None, weight=\"weight\", nonedge=np.inf)\n",
    "    np.fill_diagonal(distances, 0)\n",
    "\n",
    "    for i in range(distances.shape[0]):\n",
    "        distances = np.minimum(\n",
    "            distances,\n",
    "            distances[i, :][np.newaxis, :] + distances[:, i][:, np.newaxis],\n",
    "        )\n",
    "\n",
    "    return distances"
   ]
  },
  {
   "attachments": {},
   "cell_type": "markdown",
   "metadata": {},
   "source": [
    "I shamelessly stole the second one from the networkx code. It's ingenious!a\n",
    "Still like 2x slower than the networkx implementation, even though the code is identicalo\n",
    "Let's look at the times:"
   ]
  },
  {
   "cell_type": "code",
   "execution_count": null,
   "metadata": {},
   "outputs": [],
   "source": [
    "\n",
    "ITERATIONS = 1000\n",
    "time_taken_networkx = 0\n",
    "time_taken_native = 0\n",
    "for i in tqdm(range(ITERATIONS)):\n",
    "    G = gnp_random_connected_graph(40, 0.2)\n",
    "    if nx.negative_edge_cycle(G):\n",
    "        continue\n",
    "    start = time.time()\n",
    "    a = nx.floyd_warshall_numpy(G)\n",
    "    end = time.time()\n",
    "\n",
    "    time_taken_networkx += end - start\n",
    "\n",
    "    start = time.time()\n",
    "    b = floyd_with_numpy(G)\n",
    "    end = time.time()\n",
    "\n",
    "    print(a == b)\n",
    "\n",
    "    time_taken_native += end - start\n",
    "\n",
    "time_taken_native = time_taken_native / ITERATIONS\n",
    "time_taken_networkx = time_taken_networkx / ITERATIONS\n",
    "\n",
    "print(f\"native: {time_taken_native}s\")\n",
    "print(f\"networkx: {time_taken_networkx}s\")\n",
    "print(f\"relative: {time_taken_native / time_taken_networkx}\")"
   ]
  },
  {
   "attachments": {},
   "cell_type": "markdown",
   "metadata": {},
   "source": [
    "# Time complexities and plots\n",
    "Plotting stuff on a cartesian plane is almost like mediation, so let's do that"
   ]
  }
 ],
 "metadata": {
  "language_info": {
   "name": "python"
  },
  "orig_nbformat": 4
 },
 "nbformat": 4,
 "nbformat_minor": 2
}
