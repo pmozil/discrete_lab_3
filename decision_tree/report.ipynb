{
  "cells": [
    {
      "cell_type": "markdown",
      "metadata": {
        "id": "zL_PfXjVw-1S"
      },
      "source": [
        "# Colab setup\n",
        "## The first step is not neccesary now, as I fixed all the bad errors\n",
        "1. Install python 3.10. Please reload page (Ctrl + r / F5) after the first cell\n",
        "2. Then, clone the repo into the colab"
      ]
    },
    {
      "cell_type": "code",
      "execution_count": null,
      "metadata": {
        "id": "TW7kAF30w-1W"
      },
      "outputs": [],
      "source": [
        "!wget https://github.com/korakot/kora/releases/download/v0.10/py310.sh\n",
        "!bash ./py310.sh -b -f -p /usr/local\n",
        "!python -m ipykernel install --name \"py310\" --user"
      ]
    },
    {
      "cell_type": "code",
      "execution_count": 1,
      "metadata": {
        "colab": {
          "base_uri": "https://localhost:8080/"
        },
        "id": "MuCcdNS5w-1X",
        "outputId": "0f808fc0-dc55-40a4-c81b-e2227877309b"
      },
      "outputs": [
        {
          "output_type": "stream",
          "name": "stdout",
          "text": [
            "Cloning into 'discrete_lab_3'...\n",
            "remote: Enumerating objects: 90, done.\u001b[K\n",
            "remote: Counting objects: 100% (90/90), done.\u001b[K\n",
            "remote: Compressing objects: 100% (66/66), done.\u001b[K\n",
            "remote: Total 90 (delta 43), reused 67 (delta 20), pack-reused 0\u001b[K\n",
            "Unpacking objects: 100% (90/90), 103.89 KiB | 2.16 MiB/s, done.\n",
            "/content/discrete_lab_3\n",
            "Looking in indexes: https://pypi.org/simple, https://us-python.pkg.dev/colab-wheels/public/simple/\n",
            "Requirement already satisfied: graphviz in /usr/local/lib/python3.8/dist-packages (from -r requirements.txt (line 1)) (0.10.1)\n",
            "Requirement already satisfied: matplotlib in /usr/local/lib/python3.8/dist-packages (from -r requirements.txt (line 2)) (3.2.2)\n",
            "Requirement already satisfied: networkx in /usr/local/lib/python3.8/dist-packages (from -r requirements.txt (line 3)) (3.0)\n",
            "Requirement already satisfied: numpy in /usr/local/lib/python3.8/dist-packages (from -r requirements.txt (line 4)) (1.21.6)\n",
            "Requirement already satisfied: pandas in /usr/local/lib/python3.8/dist-packages (from -r requirements.txt (line 5)) (1.3.5)\n",
            "Requirement already satisfied: scikit-learn in /usr/local/lib/python3.8/dist-packages (from -r requirements.txt (line 6)) (1.0.2)\n",
            "Requirement already satisfied: tqdm in /usr/local/lib/python3.8/dist-packages (from -r requirements.txt (line 7)) (4.64.1)\n",
            "Requirement already satisfied: kiwisolver>=1.0.1 in /usr/local/lib/python3.8/dist-packages (from matplotlib->-r requirements.txt (line 2)) (1.4.4)\n",
            "Requirement already satisfied: pyparsing!=2.0.4,!=2.1.2,!=2.1.6,>=2.0.1 in /usr/local/lib/python3.8/dist-packages (from matplotlib->-r requirements.txt (line 2)) (3.0.9)\n",
            "Requirement already satisfied: cycler>=0.10 in /usr/local/lib/python3.8/dist-packages (from matplotlib->-r requirements.txt (line 2)) (0.11.0)\n",
            "Requirement already satisfied: python-dateutil>=2.1 in /usr/local/lib/python3.8/dist-packages (from matplotlib->-r requirements.txt (line 2)) (2.8.2)\n",
            "Requirement already satisfied: pytz>=2017.3 in /usr/local/lib/python3.8/dist-packages (from pandas->-r requirements.txt (line 5)) (2022.7.1)\n",
            "Requirement already satisfied: joblib>=0.11 in /usr/local/lib/python3.8/dist-packages (from scikit-learn->-r requirements.txt (line 6)) (1.2.0)\n",
            "Requirement already satisfied: scipy>=1.1.0 in /usr/local/lib/python3.8/dist-packages (from scikit-learn->-r requirements.txt (line 6)) (1.7.3)\n",
            "Requirement already satisfied: threadpoolctl>=2.0.0 in /usr/local/lib/python3.8/dist-packages (from scikit-learn->-r requirements.txt (line 6)) (3.1.0)\n",
            "Requirement already satisfied: six>=1.5 in /usr/local/lib/python3.8/dist-packages (from python-dateutil>=2.1->matplotlib->-r requirements.txt (line 2)) (1.15.0)\n"
          ]
        }
      ],
      "source": [
        "!git clone https://github.com/pmozil/discrete_lab_3\n",
        "%cd discrete_lab_3\n",
        "!python -m pip install -r requirements.txt"
      ]
    },
    {
      "cell_type": "code",
      "execution_count": 23,
      "metadata": {
        "colab": {
          "base_uri": "https://localhost:8080/"
        },
        "id": "nPTGwbXJw-1Y",
        "outputId": "65e97f55-b916-41c3-8db5-3c31e859681e"
      },
      "outputs": [
        {
          "output_type": "stream",
          "name": "stdout",
          "text": [
            "[Errno 2] No such file or directory: 'graphs'\n",
            "/content/discrete_lab_3/graphs\n"
          ]
        }
      ],
      "source": [
        "%cd graphs\n",
        "import numpy as np\n",
        "import networkx as nx\n",
        "import matplotlib.pyplot as plt\n",
        "from matplotlib import animation\n",
        "import queue\n",
        "import heapq\n",
        "import time\n",
        "from sklearn import datasets\n",
        "\n",
        "from tqdm import tqdm\n",
        "from itertools import product\n",
        "from typing import Tuple, Iterator, List\n",
        "from sklearn.tree import (\n",
        "    DecisionTreeClassifier as SklearnDecisionTreeClassifier,\n",
        ")\n",
        "\n",
        "from graph_generation import gnp_random_connected_graph, draw_graph"
      ]
    },
    {
      "cell_type": "markdown",
      "metadata": {
        "id": "Lx62XgOmw-1Z"
      },
      "source": [
        "# Prim's algorithm\n",
        "Here's a naive implementation using a binary heap. It's logarithmic, at least"
      ]
    },
    {
      "cell_type": "code",
      "execution_count": 3,
      "metadata": {
        "id": "FzcklxiCw-1a"
      },
      "outputs": [],
      "source": [
        "def prim(graph: nx.Graph) -> nx.Graph:\n",
        "    \"\"\"\n",
        "    Create a spanning tree for the graph\n",
        "\n",
        "    Args:\n",
        "        graph: nx.Graph - the given graph\n",
        "\n",
        "    Returns:\n",
        "        nx.Graph - the spanning tree\n",
        "    \"\"\"\n",
        "    pqueue = []\n",
        "    nodes = graph.nodes()\n",
        "    spanning_tree = nx.Graph()\n",
        "    for edge in graph.edges(data=True):\n",
        "        heapq.heappush(pqueue, (edge[0], edge[1]))\n",
        "    visited = [0 for _ in nodes]\n",
        "    min_edge = heapq.heappop(pqueue)\n",
        "    spanning_tree.add_edge(*min_edge)\n",
        "    visited[min_edge[0]] = 1\n",
        "    visited[min_edge[1]] = 1\n",
        "    while not pqueue and not all(visited):\n",
        "        min_edge = heapq.heappop(pqueue)\n",
        "        if (visited[min_edge[0]]) ^ (visited[min_edge[1]]):\n",
        "            spanning_tree.add_edge(*min_edge)\n",
        "            visited[min_edge[0]] = 1\n",
        "            visited[min_edge[1]] = 1\n",
        "    return spanning_tree"
      ]
    },
    {
      "cell_type": "markdown",
      "metadata": {
        "id": "sX2I7-20w-1a"
      },
      "source": [
        "A bit slow, but it'll do. On to comparing it with the networkx algorithm!"
      ]
    },
    {
      "cell_type": "code",
      "execution_count": 4,
      "metadata": {
        "colab": {
          "base_uri": "https://localhost:8080/"
        },
        "id": "5xDQ9aNNw-1b",
        "outputId": "eee7313f-fbce-4358-ce20-e135dbcf42fd"
      },
      "outputs": [
        {
          "output_type": "stream",
          "name": "stderr",
          "text": [
            "100%|██████████| 100/100 [00:21<00:00,  4.65it/s]"
          ]
        },
        {
          "output_type": "stream",
          "name": "stdout",
          "text": [
            "native: 0.030673773288726808s\n",
            "networkx: 0.0701137638092041s\n",
            "relative: 0.43748576060183125\n"
          ]
        },
        {
          "output_type": "stream",
          "name": "stderr",
          "text": [
            "\n"
          ]
        }
      ],
      "source": [
        "ITERATIONS = 100\n",
        "time_taken_networkx = 0\n",
        "time_taken_native = 0\n",
        "for i in tqdm(range(ITERATIONS)):\n",
        "    G = gnp_random_connected_graph(250, 0.2)\n",
        "    start = time.time()\n",
        "    nx.minimum_spanning_tree(G, algorithm=\"prim\")\n",
        "    end = time.time()\n",
        "\n",
        "    time_taken_networkx += end - start\n",
        "\n",
        "    start = time.time()\n",
        "    prim(G)\n",
        "    end = time.time()\n",
        "\n",
        "    time_taken_native += end - start\n",
        "\n",
        "time_taken_native = time_taken_native / ITERATIONS\n",
        "time_taken_networkx = time_taken_networkx / ITERATIONS\n",
        "\n",
        "print(f\"native: {time_taken_native}s\")\n",
        "print(f\"networkx: {time_taken_networkx}s\")\n",
        "print(f\"relative: {time_taken_native / time_taken_networkx}\")\n"
      ]
    },
    {
      "cell_type": "markdown",
      "metadata": {
        "id": "bUms1Fnyw-1c"
      },
      "source": [
        "## TODO: add kruskal"
      ]
    },
    {
      "cell_type": "markdown",
      "metadata": {
        "id": "rKCz1uwdw-1d"
      },
      "source": [
        "# Floyd's algorithm\n",
        "On to the Floyd's algorithm now. Here's out code:"
      ]
    },
    {
      "cell_type": "code",
      "execution_count": 14,
      "metadata": {
        "id": "eOyJgsqzw-1e"
      },
      "outputs": [],
      "source": [
        "def floyd(graph: nx.Graph) -> Tuple[np.ndarray, np.ndarray]:\n",
        "    \"\"\"\n",
        "    Calculate the distance matrix for a graph\n",
        "\n",
        "    Args:\n",
        "        graph: nx.Graph - the directed graph\n",
        "\n",
        "    Returns:\n",
        "        tuple[np.ndarray, np.ndarray] - the W and Θ matrixes\n",
        "    \"\"\"\n",
        "    graph = graph.to_directed()\n",
        "    nodes = np.intp(graph.number_of_nodes())\n",
        "    distances = nx.to_numpy_array(graph, None, weight=\"weight\", nonedge=np.inf)\n",
        "    np.fill_diagonal(distances, 0)\n",
        "    source_nodes = np.zeros_like(distances)\n",
        "\n",
        "    for k in range(nodes):\n",
        "        if any(distances[i, i] < 0 for i in range(nodes)):\n",
        "            print(\"Negative cycle in the graph!\")\n",
        "            raise ValueError\n",
        "        dist_fst = distances[k]\n",
        "        for i in range(nodes):\n",
        "            dist_snd = distances[i]\n",
        "            for j in range(nodes):\n",
        "                new_val = dist_snd[k] + dist_fst[j]\n",
        "                if new_val < distances[i, j]:\n",
        "                    distances[i, j] = new_val\n",
        "                    source_nodes[j, i] = k\n",
        "\n",
        "    return distances, source_nodes\n",
        "\n",
        "\n",
        "def floyd_with_numpy(graph: nx.Graph) -> np.ndarray:\n",
        "    \"\"\"\n",
        "    Calculate the distance matrix for a graph, with numpy minimum\n",
        "        (it should be faster)\n",
        "\n",
        "    Args:\n",
        "        graph: nx.Graph - the directed graph\n",
        "\n",
        "    Returns:\n",
        "        np.ndarray - the W and Θ matrixes\n",
        "    \"\"\"\n",
        "    graph = graph.to_directed()\n",
        "    distances = nx.to_numpy_array(graph, None, weight=\"weight\", nonedge=np.inf)\n",
        "    np.fill_diagonal(distances, 0)\n",
        "\n",
        "    for i in range(distances.shape[0]):\n",
        "        distances = np.minimum(\n",
        "            distances,\n",
        "            distances[i, :][np.newaxis, :] + distances[:, i][:, np.newaxis],\n",
        "        )\n",
        "\n",
        "    return distances"
      ]
    },
    {
      "cell_type": "markdown",
      "metadata": {
        "id": "gvWJlWwDw-1f"
      },
      "source": [
        "I shamelessly stole the second one from the networkx code. It's ingenious!a\n",
        "Still like 2x slower than the networkx implementation, even though the code is identicalo\n",
        "Let's look at the times:"
      ]
    },
    {
      "cell_type": "code",
      "execution_count": null,
      "metadata": {
        "id": "x9FcXLltw-1f"
      },
      "outputs": [],
      "source": [
        "\n",
        "ITERATIONS = 1000\n",
        "time_taken_networkx = 0\n",
        "time_taken_native = 0\n",
        "for i in tqdm(range(ITERATIONS)):\n",
        "    G = gnp_random_connected_graph(40, 0.2)\n",
        "    if nx.negative_edge_cycle(G):\n",
        "        continue\n",
        "    start = time.time()\n",
        "    a = nx.floyd_warshall_numpy(G)\n",
        "    end = time.time()\n",
        "\n",
        "    time_taken_networkx += end - start\n",
        "\n",
        "    start = time.time()\n",
        "    b = floyd_with_numpy(G)\n",
        "    end = time.time()\n",
        "\n",
        "    time_taken_native += end - start\n",
        "\n",
        "time_taken_native = time_taken_native / ITERATIONS\n",
        "time_taken_networkx = time_taken_networkx / ITERATIONS\n",
        "\n",
        "print(f\"native: {time_taken_native}s\")\n",
        "print(f\"networkx: {time_taken_networkx}s\")\n",
        "print(f\"relative: {time_taken_native / time_taken_networkx}\")"
      ]
    },
    {
      "cell_type": "markdown",
      "metadata": {
        "id": "h9NicRmfw-1f"
      },
      "source": [
        "# Time complexities and plots\n",
        "Plotting stuff on a cartesian plane is almost like mediation, so let's do that"
      ]
    },
    {
      "cell_type": "code",
      "execution_count": 13,
      "metadata": {
        "colab": {
          "base_uri": "https://localhost:8080/",
          "height": 300
        },
        "id": "or9ugQTWw-1f",
        "outputId": "53ba23e5-e9cf-42fe-eab5-2cdcce2943ca"
      },
      "outputs": [
        {
          "output_type": "stream",
          "name": "stderr",
          "text": [
            "100%|██████████| 62/62 [00:46<00:00,  1.34it/s]\n"
          ]
        },
        {
          "output_type": "execute_result",
          "data": {
            "text/plain": [
              "<matplotlib.collections.PathCollection at 0x7f6581a3b9a0>"
            ]
          },
          "metadata": {},
          "execution_count": 13
        },
        {
          "output_type": "display_data",
          "data": {
            "text/plain": [
              "<Figure size 432x288 with 1 Axes>"
            ],
            "image/png": "[encoded data removed]"
          },
          "metadata": {
            "needs_background": "light"
          }
        }
      ],
      "source": [
        "counts = list(range(10, 1000, 16))\n",
        "times = []\n",
        "for vert in tqdm(counts): # Vertice counts\n",
        "    grp = gnp_random_connected_graph(vert, 100)\n",
        "    start = time.time()\n",
        "    prim(grp)\n",
        "    times.append(time.time() - start)\n",
        "plt.scatter(counts, times)"
      ]
    },
    {
      "cell_type": "markdown",
      "source": [
        "Say fot the outliars with tons of vertices, it's logarithmic.\n",
        "Same goes for the floyd's algoritm (I'll be using numpy, so as not to die of olt age while running this)"
      ],
      "metadata": {
        "id": "TKll0lVgzZdd"
      }
    },
    {
      "cell_type": "code",
      "source": [
        "counts = list(range(10, 1000, 16))\n",
        "times = []\n",
        "for vert in tqdm(counts): # Vertice counts\n",
        "    grp = gnp_random_connected_graph(vert, 100)\n",
        "    start = time.time()\n",
        "    floyd_with_numpy(grp)\n",
        "    times.append(time.time() - start)\n",
        "plt.scatter(counts, times)"
      ],
      "metadata": {
        "colab": {
          "base_uri": "https://localhost:8080/",
          "height": 300
        },
        "id": "0FIkuo9Ez75u",
        "outputId": "8f3a4122-468f-4396-f432-1a961a4cf41e"
      },
      "execution_count": 15,
      "outputs": [
        {
          "output_type": "stream",
          "name": "stderr",
          "text": [
            "100%|██████████| 62/62 [04:09<00:00,  4.03s/it]\n"
          ]
        },
        {
          "output_type": "execute_result",
          "data": {
            "text/plain": [
              "<matplotlib.collections.PathCollection at 0x7f65805d2940>"
            ]
          },
          "metadata": {},
          "execution_count": 15
        },
        {
          "output_type": "display_data",
          "data": {
            "text/plain": [
              "<Figure size 432x288 with 1 Axes>"
            ],
            "image/png": "[encoded data removed]"
          },
          "metadata": {
            "needs_background": "light"
          }
        }
      ]
    },
    {
      "cell_type": "markdown",
      "source": [
        "... Now imagine that the non-numpy one runs 80x slower >:-[. \n",
        "Anyways, it's ± cubic, as expected. You could calculate to be sure but nah..."
      ],
      "metadata": {
        "id": "tC1_jxpQ018t"
      }
    },
    {
      "cell_type": "markdown",
      "source": [
        "# Decision trees\n",
        "\n",
        "Now, the algorithm for the decision tree is fairly simple: pick the column, which has the best distribution of results (by distribution here i mean that the probability of landing on an expected value after comparing the threshold is high. For that one may use entropy or gini, or something more complicated, but for our simple case simple gini will suffice), and set it as the next node.\n",
        "Anything below the threshold goes left, and anythig above it goes right. Repeat the process until the tree max depth is reached, and be happy. That's it\n",
        "\n",
        "Now, on to the code"
      ],
      "metadata": {
        "id": "NVhIA26G1ZNV"
      }
    },
    {
      "cell_type": "code",
      "source": [
        "class Node:\n",
        "    \"\"\"A decision tree node.\n",
        "\n",
        "    Parameters:\n",
        "        gini: float - the node's gini value\n",
        "        samples: int - the amount of samples used for fitting\n",
        "        samples_per_self: int - the same as samples,\n",
        "            but filters bad data\n",
        "        targets: np.ndarray - the class to be predicted\n",
        "        threshold: float - the criterion for going left or right\n",
        "        left: Node | None - the left leaf\n",
        "        right: Node | Node - the right leaf\n",
        "    \"\"\"\n",
        "\n",
        "    def __init__(\n",
        "        self,\n",
        "        gini: float,\n",
        "        samples: int,\n",
        "        samples_per_self: list,\n",
        "        targets: np.intp\n",
        "    ) -> None:\n",
        "        \"\"\"\n",
        "        Init for the Node class\n",
        "\n",
        "        Args:\n",
        "            gini: float - the node's gini value\n",
        "            samples: int - the amount of samples used for fitting\n",
        "            samples_per_self: int - the same as samples,\n",
        "                but filters bad data\n",
        "            targets: np.ndarray - the class to be predicted\n",
        "        \"\"\"\n",
        "        self.gini = gini\n",
        "        self.samples = samples\n",
        "        self.samples_per_self = samples_per_self\n",
        "        self.targets: np.intp = targets\n",
        "        self._feature_index: int = 0\n",
        "        self._threshold = 0\n",
        "        self._left = None\n",
        "        self._right = None\n",
        "\n",
        "    def print_gini(self):\n",
        "        print(self.gini)\n",
        "        if self._left is not None:\n",
        "            self._left.print_gini()\n",
        "        if self._right is not None:\n",
        "            self._right.print_gini()\n",
        "\n",
        "\n",
        "    @property\n",
        "    def feature_index(self) -> int:\n",
        "        \"\"\"\n",
        "        Getter for self.feature_index\n",
        "        \"\"\"\n",
        "        return self._feature_index\n",
        "\n",
        "    @feature_index.setter\n",
        "    def feature_index(self, feature_index: int) -> None:\n",
        "        \"\"\"\n",
        "        Setter for feature_index\n",
        "\n",
        "        Args:\n",
        "            feature_index: float\n",
        "        \"\"\"\n",
        "        self._feature_index = feature_index\n",
        "\n",
        "    @property\n",
        "    def threshold(self) -> float:\n",
        "        \"\"\"\n",
        "        Getter for self._threshold\n",
        "        \"\"\"\n",
        "        return self._threshold\n",
        "\n",
        "    @threshold.setter\n",
        "    def threshold(self, threshold: float) -> None:\n",
        "        \"\"\"\n",
        "        Setter for self._threshold\n",
        "\n",
        "        Args:\n",
        "            threshold: float\n",
        "        \"\"\"\n",
        "        self._threshold = threshold\n",
        "\n",
        "    @property\n",
        "    def left(self) -> \"Node\":\n",
        "        \"\"\"\n",
        "        Getter for self._left\n",
        "        \"\"\"\n",
        "        return self._left\n",
        "\n",
        "    @left.setter\n",
        "    def left(self, left: \"Node\") -> None:\n",
        "        \"\"\"\n",
        "        Setter for self._left\n",
        "\n",
        "        Args:\n",
        "            left: Node | None\n",
        "        \"\"\"\n",
        "        self._left = left\n",
        "\n",
        "    @property\n",
        "    def right(self) -> \"Node\":\n",
        "        \"\"\"\n",
        "        Getter for self._right\n",
        "        \"\"\"\n",
        "        return self._right\n",
        "\n",
        "    @right.setter\n",
        "    def right(self, right: \"Node\") -> None:\n",
        "        \"\"\"\n",
        "        Setter for self._right\n",
        "\n",
        "        Args:\n",
        "            right: Node | None\n",
        "        \"\"\"\n",
        "        self._right = right"
      ],
      "metadata": {
        "id": "KWF8nqrO2Nki"
      },
      "execution_count": 19,
      "outputs": []
    },
    {
      "cell_type": "markdown",
      "source": [
        "Be not afraid, that's just the setters/getters for the node. Otherwise, the class is fairly simple. Now, on to the tree itself"
      ],
      "metadata": {
        "id": "wauHZ1rY2TPA"
      }
    },
    {
      "cell_type": "code",
      "source": [
        "class DecisionTreeClassifier:\n",
        "    def __init__(self, max_depth: int = 16, min_predictions: int = 20) -> None:\n",
        "        self._max_depth = max_depth\n",
        "        self._min_predictions = min_predictions\n",
        "\n",
        "    def fit(self, features: np.ndarray, targets: np.ndarray) -> None:\n",
        "        \"\"\"\n",
        "        Grow the tree from given data\n",
        "\n",
        "        Args:\n",
        "            features: np.ndarray - the array of features\n",
        "            targets: np.ndarray - the araay of features to split by\n",
        "        \"\"\"\n",
        "        # classes are assumed to go from 0 to n-1\n",
        "        self._classes = len(set(targets))\n",
        "        self._features_len = features.shape[1]\n",
        "        self._features = features\n",
        "        self._targets = targets\n",
        "        self._tree = self.build_tree(features, targets)\n",
        "\n",
        "    def predict(self, object_features: np.ndarray) -> list:\n",
        "        \"\"\"\n",
        "        Predict the value for given features\n",
        "\n",
        "        Args:\n",
        "            object_features: np.ndarray - the features of specific object\n",
        "        \"\"\"\n",
        "        return [self._predict(inputs) for inputs in object_features]\n",
        "\n",
        "    def _gini(self, targets):\n",
        "        \"\"\"Compute Gini for a node.\n",
        "\n",
        "        Args:\n",
        "            targets: np.ndarray\n",
        "        \"\"\"\n",
        "        m = targets.size\n",
        "        return 1.0 - sum(\n",
        "            (np.sum(targets == c) / m) ** 2 for c in range(self._classes)\n",
        "        )\n",
        "\n",
        "    def split_data(\n",
        "        self, features: np.ndarray, targets: np.ndarray\n",
        "    ) -> Tuple[int, float]:\n",
        "        \"\"\"Find the best split for a node.\n",
        "\n",
        "        Args:\n",
        "            features: np.ndarray - the array of features\n",
        "            targets: np.ndarray - the array of targets (results)\n",
        "\n",
        "        Returns:\n",
        "            tuple[int, float] - the pair with the index of\n",
        "                feature and threshold\n",
        "        \"\"\"\n",
        "        m = targets.size\n",
        "        if m <= 1:\n",
        "            return -1, -1\n",
        "\n",
        "        parent_counts = [np.sum(targets == c) for c in range(self._classes)]\n",
        "\n",
        "        best_gini = 1.0 - sum((n / m) ** 2 for n in parent_counts)\n",
        "        id, thr = -1, -1\n",
        "\n",
        "        for idx in range(self._features_len):\n",
        "            thresholds, classes = zip(*sorted(zip(features[:, idx], targets)))\n",
        "\n",
        "            lefts = [0] * self._classes\n",
        "            rights = parent_counts.copy()\n",
        "            for i in range(1, m):\n",
        "                c = int(classes[i - 1])\n",
        "                lefts[c] += 1\n",
        "                rights[c] -= 1\n",
        "                gini_left = 1.0 - sum(\n",
        "                    (lefts[x] / i) ** 2 for x in range(self._classes)\n",
        "                )\n",
        "                gini_right = 1.0 - sum(\n",
        "                    (rights[x] / (m - i)) ** 2 for x in range(self._classes)\n",
        "                )\n",
        "\n",
        "                gini = (i * gini_left + (m - i) * gini_right) / m\n",
        "\n",
        "                if thresholds[i] == thresholds[i - 1]:\n",
        "                    continue\n",
        "\n",
        "                if gini < best_gini:\n",
        "                    best_gini = gini\n",
        "                    id = idx\n",
        "                    thr = (thresholds[i] + thresholds[i - 1]) / 2\n",
        "\n",
        "        return id, float(thr)\n",
        "\n",
        "    def build_tree(\n",
        "        self, features: np.ndarray, targets: np.ndarray, depth: int = 0\n",
        "    ) -> Node:\n",
        "        \"\"\"\n",
        "        Recursively construct the tree\n",
        "\n",
        "        Args:\n",
        "            features: np.ndarray - the array of features\n",
        "            target: np.ndarray - the array of targets (results)\n",
        "            depth: int - the current tree depth\n",
        "        \"\"\"\n",
        "        samples_per_self = [np.sum(targets == i) for i in range(self._classes)]\n",
        "        preds = np.argmax(samples_per_self)\n",
        "        node = Node(\n",
        "            gini=self._gini(targets),\n",
        "            samples=targets.size,\n",
        "            samples_per_self=samples_per_self,\n",
        "            targets=preds,\n",
        "        )\n",
        "\n",
        "        if (\n",
        "            depth < self._max_depth\n",
        "            and samples_per_self[preds] >= self._min_predictions\n",
        "        ):\n",
        "            idx, thr = self.split_data(features, targets)\n",
        "            indices_left = features[:, idx] < thr\n",
        "            features_left, targets_left = (\n",
        "                features[indices_left],\n",
        "                targets[indices_left],\n",
        "            )\n",
        "            features_right, targets_right = (\n",
        "                features[~indices_left],\n",
        "                targets[~indices_left],\n",
        "            )\n",
        "            node.feature_index = idx\n",
        "            node.threshold = thr\n",
        "            node.left = self.build_tree(features_left, targets_left, depth + 1)\n",
        "            node.right = self.build_tree(\n",
        "                features_right, targets_right, depth + 1\n",
        "            )\n",
        "        return node\n",
        "\n",
        "    @property\n",
        "    def accuracy(self) -> float:\n",
        "        \"\"\"\n",
        "        Evaluate the tree's accuracy\n",
        "\n",
        "        Returns:\n",
        "            float: the tree's accuracy\n",
        "        \"\"\"\n",
        "        if self._tree is None:\n",
        "            return 0\n",
        "        num_guessed = 0\n",
        "        for ind, input in enumerate(self._features):\n",
        "            pred = self.predict([input])[0]\n",
        "            if pred == self._targets[ind]:\n",
        "                num_guessed += 1\n",
        "        return num_guessed / len(self._targets)\n",
        "\n",
        "    def _predict(self, object_features: np.ndarray) -> np.intp:\n",
        "        \"\"\"\n",
        "        Predict the class for a single sample\n",
        "\n",
        "        Args:\n",
        "            object_features: np.ndarray - the features of a single object\n",
        "        \"\"\"\n",
        "        if self._tree is None:\n",
        "            raise ValueError\n",
        "        node = self._tree\n",
        "        while node.left is not None:\n",
        "            node = (\n",
        "                node.left\n",
        "                if object_features[node.feature_index] < node.threshold\n",
        "                else node.right\n",
        "            )\n",
        "        return node.targets"
      ],
      "metadata": {
        "id": "ev7RGiIo4O8j"
      },
      "execution_count": 46,
      "outputs": []
    },
    {
      "cell_type": "markdown",
      "source": [
        "Everything should be quite straightforward, if only for the recursive tree growing. In it, we split the given features by the threshold, and, as already mentioned, we feed the values below the threshold to the node on the left, and all the other data (see `features[~indices_left]`) to the node on the right.\n",
        "There's also an guesser for the optimal tree values (max_depth and min_predictions), but it's really just bruteforcing, so i'll just leave it here"
      ],
      "metadata": {
        "id": "7RVAByYT4Px8"
      }
    },
    {
      "cell_type": "code",
      "source": [
        "class Estimator:\n",
        "    def __init__(\n",
        "        self,\n",
        "        features: np.ndarray,\n",
        "        targets: np.ndarray,\n",
        "        min_predictions: List[int] = [5, 10, 20],\n",
        "        max_depth: List[int] = [3, 5, 10, 16],\n",
        "    ) -> None:\n",
        "        \"\"\"\n",
        "        Init fot eh Estimator\n",
        "\n",
        "        Args:\n",
        "        \"\"\"\n",
        "        self.min_predictions = min_predictions\n",
        "        self.max_depth = max_depth\n",
        "        self.features = features\n",
        "        self.targets = targets\n",
        "\n",
        "    @property\n",
        "    def _next_tree(self) -> Iterator[DecisionTreeClassifier]:\n",
        "        \"\"\"\n",
        "        Train the next Tree so as to check all their accuracies\n",
        "\n",
        "        Returns:\n",
        "            DecisionTreeClassifier - the next tree with the new arguments\n",
        "        \"\"\"\n",
        "        for depth, preds in product(self.max_depth, self.min_predictions):\n",
        "            tree = DecisionTreeClassifier(\n",
        "                max_depth=depth,\n",
        "                min_predictions=preds,\n",
        "            )\n",
        "            tree.fit(self.features, self.targets)\n",
        "            yield tree\n",
        "\n",
        "    @property\n",
        "    def best_tree(self) -> DecisionTreeClassifier:\n",
        "        \"\"\"\n",
        "        Find best tree for the given predictions and depths\n",
        "\n",
        "        Returns:\n",
        "            DecisionTreeClassifier - the best tree\n",
        "        \"\"\"\n",
        "        trees = self._next_tree\n",
        "        accuracy = -1\n",
        "        for tree in trees:\n",
        "            if tree.accuracy > accuracy:\n",
        "                cur_tree = tree\n",
        "                accuracy = tree.accuracy\n",
        "        return cur_tree"
      ],
      "metadata": {
        "id": "t2zXNX-d5HOg"
      },
      "execution_count": 34,
      "outputs": []
    },
    {
      "cell_type": "markdown",
      "source": [
        "Let's see how it all works. We'll be using the breast cancer dataset. It has plenty of features, and is sufficiently big for our use case"
      ],
      "metadata": {
        "id": "G1RCYML_5LxC"
      }
    },
    {
      "cell_type": "code",
      "source": [
        "dataset = datasets.load_breast_cancer()\n",
        "feats, targets = dataset.data, dataset.target\n",
        "\n",
        "estimator = Estimator(\n",
        "    features=feats,\n",
        "    targets=targets,\n",
        "    max_depth=list(range(2, 10)),\n",
        "    min_predictions=list(range(2, 20, 4))\n",
        ")\n",
        "\n",
        "clf_sklearn = SklearnDecisionTreeClassifier()\n",
        "clf_sklearn.fit(feats, targets)\n",
        "\n",
        "clf = estimator.best_tree\n",
        "print(f\"Tree accuracy: {clf.accuracy}\")\n",
        "count = 0\n",
        "for _ in range(1000):\n",
        "    input = [np.random.rand() for _ in range(30)]\n",
        "    pred = clf.predict([input])[0]\n",
        "    pred_sklearn = clf_sklearn.predict([input])[0]\n",
        "#     print(\n",
        "#         f\"\"\"\n",
        "# Prediction: {dataset.target_names[pred]}; \\\n",
        "# Sklearn prediction: {dataset.target_names[pred_sklearn]}\n",
        "#     \"\"\"\n",
        "#     )\n",
        "    if pred == pred_sklearn:\n",
        "        count += 1\n",
        "print(f\"Accuracy (compared with the sklearn tree): {count / 1000}\")"
      ],
      "metadata": {
        "colab": {
          "base_uri": "https://localhost:8080/"
        },
        "id": "0Rv2XfcO7hkv",
        "outputId": "c924a860-f4ea-4600-e6e1-9f0b1671026e"
      },
      "execution_count": 48,
      "outputs": [
        {
          "output_type": "stream",
          "name": "stderr",
          "text": [
            "<ipython-input-46-6f9c2bd1a73f>:38: RuntimeWarning: invalid value encountered in long_scalars\n",
            "  (np.sum(targets == c) / m) ** 2 for c in range(self._classes)\n"
          ]
        },
        {
          "output_type": "stream",
          "name": "stdout",
          "text": [
            "Tree accuracy: 1.0\n",
            "Accuracy (compared with the sklearn tree): 0.979\n"
          ]
        }
      ]
    }
  ],
  "metadata": {
    "language_info": {
      "name": "python"
    },
    "orig_nbformat": 4,
    "colab": {
      "provenance": []
    },
    "kernelspec": {
      "name": "python3",
      "display_name": "Python 3"
    },
    "gpuClass": "standard"
  },
  "nbformat": 4,
  "nbformat_minor": 0
}